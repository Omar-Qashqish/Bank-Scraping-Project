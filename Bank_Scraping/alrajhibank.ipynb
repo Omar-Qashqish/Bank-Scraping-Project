{
 "cells": [
  {
   "cell_type": "code",
   "execution_count": 1,
   "id": "853f44a0-a45a-42ad-bee6-f56c81b25f46",
   "metadata": {},
   "outputs": [],
   "source": [
    "import os\n",
    "import requests\n",
    "import pandas as pd\n",
    "from bs4 import BeautifulSoup\n",
    "from urllib.parse import urljoin\n"
   ]
  },
  {
   "cell_type": "code",
   "execution_count": 2,
   "id": "a9dc611b-e16a-4971-86d5-1204b15d9a73",
   "metadata": {},
   "outputs": [],
   "source": [
    "url = \"https://www.alrajhibank.com.jo\"\n",
    "\n",
    "\n",
    "bank_name = \"Al Rajhi Bank Jordan\"\n",
    "\n",
    "\n",
    "folder_name = \"alrajhi_banner_images\"\n",
    "os.makedirs(folder_name, exist_ok=True)\n",
    "\n",
    "headers = {\n",
    "    \"User-Agent\": \"Mozilla/5.0 (Windows NT 10.0; Win64; x64) AppleWebKit/537.36 (KHTML, like Gecko) Chrome/124.0.0.0 Safari/537.36\"\n",
    "}\n",
    "\n",
    "response = requests.get(url, headers=headers)\n",
    "response.raise_for_status()\n",
    "\n",
    "\n",
    "soup = BeautifulSoup(response.text, \"html.parser\")\n"
   ]
  },
  {
   "cell_type": "code",
   "execution_count": 5,
   "id": "df55b5f4-8b14-435e-bbad-cf36b32519b5",
   "metadata": {},
   "outputs": [],
   "source": [
    "slider = soup.find(\"div\", class_=\"house_banner_sec\")\n",
    "images_data = []"
   ]
  },
  {
   "cell_type": "code",
   "execution_count": 7,
   "id": "da8bbcb8-fb98-44ce-b1ce-647c6f9c6185",
   "metadata": {},
   "outputs": [
    {
     "name": "stdout",
     "output_type": "stream",
     "text": [
      "❌ لم يتم العثور على القسم الصحيح (house_banner_sec)!\n"
     ]
    }
   ],
   "source": [
    "if slider:\n",
    "    all_slides = slider.find_all(\"div\", class_=\"house_banner_sec_flex\")\n",
    "\n",
    "    for slide in all_slides:\n",
    "        img_tag = slide.find(\"img\")\n",
    "        a_tag = slide.find(\"a\", class_=\"btn-view\")\n",
    "\n",
    "        if img_tag:\n",
    "            img_src = img_tag.get(\"src\", \"\").strip()\n",
    "            img_name = img_src.split(\"/\")[-1]\n",
    "            full_img_url = urljoin(url, img_src)\n",
    "\n",
    "            # رابط المقال (إن وجد)\n",
    "            article_link = \"\"\n",
    "            if a_tag and a_tag.has_attr(\"href\"):\n",
    "                article_link = urljoin(url, a_tag[\"href\"])\n",
    "\n",
    "            # تحميل الصورة\n",
    "            img_path = os.path.join(folder_name, img_name)\n",
    "            try:\n",
    "                img_response = requests.get(full_img_url, headers=headers)\n",
    "                img_response.raise_for_status()\n",
    "                with open(img_path, \"wb\") as f:\n",
    "                    f.write(img_response.content)\n",
    "                print(f\"✔️ تم تحميل الصورة: {img_name}\")\n",
    "\n",
    "                # حفظ بيانات الصورة\n",
    "                images_data.append({\n",
    "                    \"Bank_Name\": bank_name,\n",
    "                    \"Image_Name\": img_name,\n",
    "                    \"Image_Link\": full_img_url,\n",
    "                    \"Article_Link\": article_link\n",
    "                })\n",
    "\n",
    "            except Exception as e:\n",
    "                print(f\"❌ فشل تحميل الصورة: {full_img_url}, السبب: {e}\")\n",
    "else:\n",
    "    print(\"❌ لم يتم العثور على القسم الصحيح (house_banner_sec)!\")\n"
   ]
  },
  {
   "cell_type": "code",
   "execution_count": 11,
   "id": "859ebd29-6988-4932-8957-5ecc18769a0b",
   "metadata": {},
   "outputs": [
    {
     "data": {
      "text/html": [
       "<div>\n",
       "<style scoped>\n",
       "    .dataframe tbody tr th:only-of-type {\n",
       "        vertical-align: middle;\n",
       "    }\n",
       "\n",
       "    .dataframe tbody tr th {\n",
       "        vertical-align: top;\n",
       "    }\n",
       "\n",
       "    .dataframe thead th {\n",
       "        text-align: right;\n",
       "    }\n",
       "</style>\n",
       "<table border=\"1\" class=\"dataframe\">\n",
       "  <thead>\n",
       "    <tr style=\"text-align: right;\">\n",
       "      <th></th>\n",
       "    </tr>\n",
       "  </thead>\n",
       "  <tbody>\n",
       "  </tbody>\n",
       "</table>\n",
       "</div>"
      ],
      "text/plain": [
       "Empty DataFrame\n",
       "Columns: []\n",
       "Index: []"
      ]
     },
     "execution_count": 11,
     "metadata": {},
     "output_type": "execute_result"
    }
   ],
   "source": [
    "df = pd.DataFrame(images_data)\n",
    "df"
   ]
  },
  {
   "cell_type": "code",
   "execution_count": 9,
   "id": "aa9ff5b6-2f07-404a-8a68-7e98ba29a01f",
   "metadata": {},
   "outputs": [
    {
     "name": "stdout",
     "output_type": "stream",
     "text": [
      "✅ تم الوصول للصفحة بنجاح! (Status Code: 200)\n",
      "\n",
      "📄 جزء من الـ HTML:\n",
      "<!DOCTYPE html>\n",
      "<html><head>\n",
      "<meta http-equiv=\"Pragma\" content=\"no-cache\"/>\n",
      "<meta http-equiv=\"Expires\" content=\"-1\"/>\n",
      "<meta http-equiv=\"CacheControl\" content=\"no-cache\"/>\n",
      "<meta http-equiv=\"Content-Type\" content=\"text/html; charset=utf-8\"/>\n",
      "<link rel=\"shortcut icon\" href=\"data:;base64,iVBORw0KGgo=\"/>\n",
      "\n",
      "<script type=\"text/javascript\">\n",
      "(function(){\n",
      "window[\"bobcmn\"] = \"101110101010102000000062000000052000000062000000012dad4932a200000096200000000200000002300000000300000000300000006/TSPD/300000008TSPD_10130000000cTSPD_101_DID300000005https3000000f008d4b7dff8ab2000e1832a2e4633fa685f4de37fd0501677bf4a23e0634bfce70e4fac803499875d08fa19de8a0a48006304537a0edb73c99f2cc3c4e40e2fd53f97f4cec83c065744059708ab404d01ec933f4ab9164aff9ea43c153e534d9e024c4a3dcc9ff345f49f427bbd7bf2c8c60646f6d4c7d653300000002TS200000000200000000\";\n",
      "\n",
      "window[\"failureConfig\"] = \"524f6f70732e2e2e2e736f6d657468696e672077656e742077726f6e672e2e2e2e20796f757220737570706f72742069642069733a2025444f534c372e6368616c6c656e67652\n"
     ]
    }
   ],
   "source": [
    "import requests\n",
    "\n",
    "url = \"https://www.alrajhibank.com.jo\"\n",
    "\n",
    "# هيدرز علشان ما يرفضنا السيرفر\n",
    "headers = {\n",
    "    \"User-Agent\": \"Mozilla/5.0 (Windows NT 10.0; Win64; x64) AppleWebKit/537.36 (KHTML, like Gecko) Chrome/124.0.0.0 Safari/537.36\"\n",
    "}\n",
    "\n",
    "try:\n",
    "    response = requests.get(url, headers=headers, timeout=10)\n",
    "    response.raise_for_status()\n",
    "\n",
    "    print(f\"✅ تم الوصول للصفحة بنجاح! (Status Code: {response.status_code})\\n\")\n",
    "    print(\"📄 جزء من الـ HTML:\")\n",
    "    print(response.text[:1000])  # نطبع أول 1000 حرف بس من الـ HTML\n",
    "\n",
    "except requests.exceptions.RequestException as e:\n",
    "    print(f\"❌ خطأ أثناء محاولة الوصول للصفحة: {e}\")\n"
   ]
  },
  {
   "cell_type": "code",
   "execution_count": null,
   "id": "5b086c75-b7f1-4733-a51e-9e53f52cf483",
   "metadata": {},
   "outputs": [],
   "source": []
  }
 ],
 "metadata": {
  "kernelspec": {
   "display_name": "Python [conda env:base] *",
   "language": "python",
   "name": "conda-base-py"
  },
  "language_info": {
   "codemirror_mode": {
    "name": "ipython",
    "version": 3
   },
   "file_extension": ".py",
   "mimetype": "text/x-python",
   "name": "python",
   "nbconvert_exporter": "python",
   "pygments_lexer": "ipython3",
   "version": "3.12.7"
  }
 },
 "nbformat": 4,
 "nbformat_minor": 5
}
