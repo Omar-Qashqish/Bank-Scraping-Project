{
 "cells": [
  {
   "cell_type": "code",
   "execution_count": 1,
   "id": "3c2e45de-94d9-4ce4-afc5-df2a5168a0c5",
   "metadata": {},
   "outputs": [],
   "source": [
    "import requests\n",
    "from bs4 import BeautifulSoup\n",
    "from urllib.parse import urljoin\n",
    "import os\n",
    "import pandas as pd\n"
   ]
  },
  {
   "cell_type": "code",
   "execution_count": 3,
   "id": "688ff7f9-826a-4ad5-83d2-ce6c812903bc",
   "metadata": {},
   "outputs": [],
   "source": [
    "base_url = \"https://www.bankaletihad.com\"\n",
    "page_url = base_url + \"/ar/\"\n",
    "bank_name = \"Bank al Etihad\"\n",
    "folder = \"bankaletihad_all_images\"\n",
    "os.makedirs(folder, exist_ok=True)\n",
    "headers = {\"User-Agent\": \"Mozilla/5.0\"}\n"
   ]
  },
  {
   "cell_type": "code",
   "execution_count": 13,
   "id": "e8662945-9210-467d-8d64-93f33bdf4052",
   "metadata": {},
   "outputs": [],
   "source": [
    "response = requests.get(page_url, headers=headers)\n",
    "soup = BeautifulSoup(response.content, \"html.parser\")\n",
    "\n",
    "\n",
    "data = []\n"
   ]
  },
  {
   "cell_type": "code",
   "execution_count": 14,
   "id": "d97df5f0-0015-4928-9b82-6cd3e464532e",
   "metadata": {},
   "outputs": [
    {
     "name": "stdout",
     "output_type": "stream",
     "text": [
      "✔️ صورة 1: Hero-Image-updated-Mafhoom@2x-1.webp\n"
     ]
    }
   ],
   "source": [
    "\n",
    "# ========== ✅  1: البانر الرئيسي ==========\n",
    "hero = soup.find(\"div\", class_=\"hero_primary_hero_primary__inner__60kjK\")\n",
    "if hero:\n",
    "    img_tag = hero.find(\"img\")\n",
    "    link_tag = hero.find(\"a\", class_=\"hero_primary_hero_primary__btn__UIKMU\")\n",
    "    img_url = urljoin(base_url, img_tag[\"src\"]) if img_tag else None\n",
    "    img_name = os.path.basename(img_url.split(\"?\")[0]) if img_url else \"No_Image\"\n",
    "    article_link = urljoin(base_url, link_tag[\"href\"]) if link_tag else \"No Link\"\n",
    "\n",
    "    # تحميل الصورة\n",
    "    if img_url:\n",
    "        try:\n",
    "            img_data = requests.get(img_url).content\n",
    "            with open(os.path.join(folder, img_name), \"wb\") as f:\n",
    "                f.write(img_data)\n",
    "            print(f\"✔️ صورة 1: {img_name}\")\n",
    "        except Exception as e:\n",
    "            print(f\"❌ فشل تحميل الصورة: {img_url} - {e}\")\n",
    "            img_url = \"Download Failed\"\n",
    "\n",
    "    data.append({\n",
    "        \"Bank_Name\": bank_name,\n",
    "        \"Image_Name\": img_name,\n",
    "        \"Image_Link\": img_url,\n",
    "        \"Article_Link\": article_link\n",
    "    })\n"
   ]
  },
  {
   "cell_type": "code",
   "execution_count": 15,
   "id": "bba61c69-eb35-4ec6-afa0-30e84208e395",
   "metadata": {},
   "outputs": [
    {
     "name": "stdout",
     "output_type": "stream",
     "text": [
      "✔️ صورة 2: cards_personal_1.c70e9c44.png\n",
      "✔️ صورة 2: cards_personal_2.82b84fab.png\n",
      "✔️ صورة 2: cards_personal_3.6bbf37d7.png\n"
     ]
    }
   ],
   "source": [
    "# ========== ✅  2: بطاقات الائتمان ==========\n",
    "cards_section = soup.find(\"div\", class_=\"common_cards_common_cards__7o_dd\")\n",
    "if cards_section:\n",
    "    link_tag = cards_section.find(\"a\", href=True)\n",
    "    article_link = urljoin(base_url, link_tag[\"href\"]) if link_tag else \"No Link\"\n",
    "    img_tags = cards_section.find_all(\"img\")\n",
    "\n",
    "    for img in img_tags:\n",
    "        img_url = urljoin(base_url, img[\"src\"])\n",
    "        img_name = os.path.basename(img_url.split(\"?\")[0])\n",
    "\n",
    "        try:\n",
    "            img_data = requests.get(img_url).content\n",
    "            with open(os.path.join(folder, img_name), \"wb\") as f:\n",
    "                f.write(img_data)\n",
    "            print(f\"✔️ صورة 2: {img_name}\")\n",
    "        except Exception as e:\n",
    "            print(f\"❌ فشل تحميل الصورة: {img_url} - {e}\")\n",
    "            img_url = \"Download Failed\"\n",
    "\n",
    "        data.append({\n",
    "            \"Bank_Name\": bank_name,\n",
    "            \"Image_Name\": img_name,\n",
    "            \"Image_Link\": img_url,\n",
    "            \"Article_Link\": article_link\n",
    "        })"
   ]
  },
  {
   "cell_type": "code",
   "execution_count": 16,
   "id": "3a9b3418-cdc0-4ea8-9091-c5c98334c2a0",
   "metadata": {},
   "outputs": [
    {
     "name": "stdout",
     "output_type": "stream",
     "text": [
      "✔️ صورة 3: Illustration-1.webp\n",
      "✔️ صورة 3: f55eafa8ff9dca53c8eafcf60cf657ae-1.webp\n",
      "✔️ صورة 3: ssa2x.webp\n",
      "✔️ صورة 3: loans-2x.webp\n",
      "✔️ صورة 3: Image-21-2X.webp\n"
     ]
    }
   ],
   "source": [
    "# ========== ✅  3: البوستات ==========\n",
    "posts = soup.find_all(\"div\", class_=\"product_post_product_post__YNotO\")\n",
    "for post in posts:\n",
    "    img_tag = post.find(\"img\")\n",
    "    link_tag = post.find(\"a\", class_=\"product_post_product_post__link__Cc6NH\")\n",
    "    img_url = urljoin(base_url, img_tag[\"src\"]) if img_tag else None\n",
    "    img_name = os.path.basename(img_url.split(\"?\")[0]) if img_url else \"No_Image\"\n",
    "    article_link = urljoin(base_url, link_tag[\"href\"]) if link_tag else \"No Link\"\n",
    "\n",
    "    if img_url:\n",
    "        try:\n",
    "            img_data = requests.get(img_url).content\n",
    "            with open(os.path.join(folder, img_name), \"wb\") as f:\n",
    "                f.write(img_data)\n",
    "            print(f\"✔️ صورة 3: {img_name}\")\n",
    "        except Exception as e:\n",
    "            print(f\"❌ فشل تحميل الصورة: {img_url} - {e}\")\n",
    "            img_url = \"Download Failed\"\n",
    "\n",
    "    data.append({\n",
    "        \"Bank_Name\": bank_name,\n",
    "        \"Image_Name\": img_name,\n",
    "        \"Image_Link\": img_url,\n",
    "        \"Article_Link\": article_link\n",
    "    })"
   ]
  },
  {
   "cell_type": "code",
   "execution_count": 21,
   "id": "e07581d1-7c59-4328-a916-023ef9fd20bb",
   "metadata": {},
   "outputs": [
    {
     "data": {
      "text/html": [
       "<div>\n",
       "<style scoped>\n",
       "    .dataframe tbody tr th:only-of-type {\n",
       "        vertical-align: middle;\n",
       "    }\n",
       "\n",
       "    .dataframe tbody tr th {\n",
       "        vertical-align: top;\n",
       "    }\n",
       "\n",
       "    .dataframe thead th {\n",
       "        text-align: right;\n",
       "    }\n",
       "</style>\n",
       "<table border=\"1\" class=\"dataframe\">\n",
       "  <thead>\n",
       "    <tr style=\"text-align: right;\">\n",
       "      <th></th>\n",
       "      <th>Bank_Name</th>\n",
       "      <th>Image_Name</th>\n",
       "      <th>Image_Link</th>\n",
       "      <th>Article_Link</th>\n",
       "    </tr>\n",
       "  </thead>\n",
       "  <tbody>\n",
       "    <tr>\n",
       "      <th>0</th>\n",
       "      <td>Bank al Etihad</td>\n",
       "      <td>Hero-Image-updated-Mafhoom@2x-1.webp</td>\n",
       "      <td>https://websitev3-cms-cdn.bankaletihad.com/202...</td>\n",
       "      <td>https://www.bankaletihad.com/ar/mafhoom-al-eti...</td>\n",
       "    </tr>\n",
       "    <tr>\n",
       "      <th>1</th>\n",
       "      <td>Bank al Etihad</td>\n",
       "      <td>cards_personal_1.c70e9c44.png</td>\n",
       "      <td>https://websitev3-cdn.bankaletihad.com/_next/s...</td>\n",
       "      <td>https://www.bankaletihad.com/ar/personal/cards/</td>\n",
       "    </tr>\n",
       "    <tr>\n",
       "      <th>2</th>\n",
       "      <td>Bank al Etihad</td>\n",
       "      <td>cards_personal_2.82b84fab.png</td>\n",
       "      <td>https://websitev3-cdn.bankaletihad.com/_next/s...</td>\n",
       "      <td>https://www.bankaletihad.com/ar/personal/cards/</td>\n",
       "    </tr>\n",
       "    <tr>\n",
       "      <th>3</th>\n",
       "      <td>Bank al Etihad</td>\n",
       "      <td>cards_personal_3.6bbf37d7.png</td>\n",
       "      <td>https://websitev3-cdn.bankaletihad.com/_next/s...</td>\n",
       "      <td>https://www.bankaletihad.com/ar/personal/cards/</td>\n",
       "    </tr>\n",
       "    <tr>\n",
       "      <th>4</th>\n",
       "      <td>Bank al Etihad</td>\n",
       "      <td>Illustration-1.webp</td>\n",
       "      <td>https://websitev3-cms-cdn.bankaletihad.com/202...</td>\n",
       "      <td>https://www.bankaletihad.com/ar/knowledge-hub/...</td>\n",
       "    </tr>\n",
       "    <tr>\n",
       "      <th>5</th>\n",
       "      <td>Bank al Etihad</td>\n",
       "      <td>f55eafa8ff9dca53c8eafcf60cf657ae-1.webp</td>\n",
       "      <td>https://websitev3-cms-cdn.bankaletihad.com/202...</td>\n",
       "      <td>https://www.bankaletihad.com/ar/personal/accou...</td>\n",
       "    </tr>\n",
       "    <tr>\n",
       "      <th>6</th>\n",
       "      <td>Bank al Etihad</td>\n",
       "      <td>ssa2x.webp</td>\n",
       "      <td>https://websitev3-cms-cdn.bankaletihad.com/202...</td>\n",
       "      <td>https://www.bankaletihad.com/ar/personal/shoro...</td>\n",
       "    </tr>\n",
       "    <tr>\n",
       "      <th>7</th>\n",
       "      <td>Bank al Etihad</td>\n",
       "      <td>loans-2x.webp</td>\n",
       "      <td>https://websitev3-cms-cdn.bankaletihad.com/202...</td>\n",
       "      <td>https://www.bankaletihad.com/ar/personal/loans...</td>\n",
       "    </tr>\n",
       "    <tr>\n",
       "      <th>8</th>\n",
       "      <td>Bank al Etihad</td>\n",
       "      <td>Image-21-2X.webp</td>\n",
       "      <td>https://websitev3-cms-cdn.bankaletihad.com/202...</td>\n",
       "      <td>https://www.bankaletihad.com/ar/mobile-app/</td>\n",
       "    </tr>\n",
       "  </tbody>\n",
       "</table>\n",
       "</div>"
      ],
      "text/plain": [
       "        Bank_Name                               Image_Name  \\\n",
       "0  Bank al Etihad     Hero-Image-updated-Mafhoom@2x-1.webp   \n",
       "1  Bank al Etihad            cards_personal_1.c70e9c44.png   \n",
       "2  Bank al Etihad            cards_personal_2.82b84fab.png   \n",
       "3  Bank al Etihad            cards_personal_3.6bbf37d7.png   \n",
       "4  Bank al Etihad                      Illustration-1.webp   \n",
       "5  Bank al Etihad  f55eafa8ff9dca53c8eafcf60cf657ae-1.webp   \n",
       "6  Bank al Etihad                               ssa2x.webp   \n",
       "7  Bank al Etihad                            loans-2x.webp   \n",
       "8  Bank al Etihad                         Image-21-2X.webp   \n",
       "\n",
       "                                          Image_Link  \\\n",
       "0  https://websitev3-cms-cdn.bankaletihad.com/202...   \n",
       "1  https://websitev3-cdn.bankaletihad.com/_next/s...   \n",
       "2  https://websitev3-cdn.bankaletihad.com/_next/s...   \n",
       "3  https://websitev3-cdn.bankaletihad.com/_next/s...   \n",
       "4  https://websitev3-cms-cdn.bankaletihad.com/202...   \n",
       "5  https://websitev3-cms-cdn.bankaletihad.com/202...   \n",
       "6  https://websitev3-cms-cdn.bankaletihad.com/202...   \n",
       "7  https://websitev3-cms-cdn.bankaletihad.com/202...   \n",
       "8  https://websitev3-cms-cdn.bankaletihad.com/202...   \n",
       "\n",
       "                                        Article_Link  \n",
       "0  https://www.bankaletihad.com/ar/mafhoom-al-eti...  \n",
       "1    https://www.bankaletihad.com/ar/personal/cards/  \n",
       "2    https://www.bankaletihad.com/ar/personal/cards/  \n",
       "3    https://www.bankaletihad.com/ar/personal/cards/  \n",
       "4  https://www.bankaletihad.com/ar/knowledge-hub/...  \n",
       "5  https://www.bankaletihad.com/ar/personal/accou...  \n",
       "6  https://www.bankaletihad.com/ar/personal/shoro...  \n",
       "7  https://www.bankaletihad.com/ar/personal/loans...  \n",
       "8        https://www.bankaletihad.com/ar/mobile-app/  "
      ]
     },
     "execution_count": 21,
     "metadata": {},
     "output_type": "execute_result"
    }
   ],
   "source": [
    "df = pd.DataFrame(data)\n",
    "df"
   ]
  },
  {
   "cell_type": "code",
   "execution_count": null,
   "id": "63d36515-ad37-45fe-b7b5-a862cf43afc4",
   "metadata": {},
   "outputs": [],
   "source": []
  }
 ],
 "metadata": {
  "kernelspec": {
   "display_name": "Python [conda env:base] *",
   "language": "python",
   "name": "conda-base-py"
  },
  "language_info": {
   "codemirror_mode": {
    "name": "ipython",
    "version": 3
   },
   "file_extension": ".py",
   "mimetype": "text/x-python",
   "name": "python",
   "nbconvert_exporter": "python",
   "pygments_lexer": "ipython3",
   "version": "3.12.7"
  }
 },
 "nbformat": 4,
 "nbformat_minor": 5
}
