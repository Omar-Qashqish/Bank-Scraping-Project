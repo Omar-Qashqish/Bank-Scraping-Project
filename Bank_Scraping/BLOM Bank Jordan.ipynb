{
 "cells": [
  {
   "cell_type": "code",
   "execution_count": 1,
   "id": "64008fd3-d025-45b3-9132-5121eb490c25",
   "metadata": {},
   "outputs": [],
   "source": [
    "import requests\n",
    "import pandas as pd\n",
    "from bs4 import BeautifulSoup\n",
    "import os\n",
    "from urllib.parse import urljoin\n",
    "import re\n"
   ]
  },
  {
   "cell_type": "code",
   "execution_count": 3,
   "id": "2a31ea9a-2893-499e-a7a8-3ed64419a8ea",
   "metadata": {},
   "outputs": [],
   "source": [
    "url = \"https://www.blom.com.jo/retail-jordan/home\"\n",
    "\n",
    "base_url = \"https://www.blom.com.jo\"\n",
    "\n",
    "headers = {\n",
    "    \"User-Agent\": \"Mozilla/5.0 (Windows NT 10.0; Win64; x64) AppleWebKit/537.36 (KHTML, like Gecko) Chrome/112.0.0.0 Safari/537.36\"\n",
    "}\n",
    "\n",
    "response = requests.get(url, headers=headers)\n",
    "soup = BeautifulSoup(response.content, \"html.parser\")\n"
   ]
  },
  {
   "cell_type": "code",
   "execution_count": 5,
   "id": "6fc4fd12-f729-4fd4-96e7-aff58968c68b",
   "metadata": {},
   "outputs": [],
   "source": [
    "folder_name = \"blom_banner_images\"\n",
    "os.makedirs(folder_name, exist_ok=True)"
   ]
  },
  {
   "cell_type": "code",
   "execution_count": 7,
   "id": "3397513b-2bd2-48ad-8e71-dfbcad8348ff",
   "metadata": {},
   "outputs": [],
   "source": [
    "images = []\n",
    "bank_name = \"BLOM Bank Jordan\""
   ]
  },
  {
   "cell_type": "code",
   "execution_count": 9,
   "id": "84fe5541-019c-4038-99ec-2fbfffb82bb3",
   "metadata": {},
   "outputs": [
    {
     "name": "stdout",
     "output_type": "stream",
     "text": [
      "❌ لم يتم العثور على قسم البانر!\n"
     ]
    }
   ],
   "source": [
    "banner_section = soup.find(\"div\", id=\"homeBannersHolder\")\n",
    "if banner_section:\n",
    "    # كل li داخل slides\n",
    "    slides = banner_section.find_all(\"li\")\n",
    "\n",
    "    for slide in slides:\n",
    "        img_tag = slide.find(\"img\")\n",
    "        image_link = \"\"\n",
    "\n",
    "        # 1. إذا فيه <img> طبيعي\n",
    "        if img_tag and img_tag.get(\"src\"):\n",
    "            image_link = img_tag.get(\"src\").strip()\n",
    "\n",
    "        # 2. إذا مافي، دور على background-image داخل figure\n",
    "        if not image_link:\n",
    "            figure = slide.find(\"figure\")\n",
    "            if figure and figure.has_attr(\"style\"):\n",
    "                style = figure[\"style\"]\n",
    "                match = re.search(r\"url\\(['\\\"]?(.*?)['\\\"]?\\)\", style)\n",
    "                if match:\n",
    "                    image_link = match.group(1)\n",
    "\n",
    "        if image_link:\n",
    "            # تكملة الرابط لو ناقص\n",
    "            if not image_link.startswith(\"http\"):\n",
    "                full_img_url = urljoin(base_url, image_link)\n",
    "            else:\n",
    "                full_img_url = image_link\n",
    "\n",
    "            # استخراج اسم الصورة\n",
    "            img_name = image_link.split(\"/\")[-1].split(\"?\")[0]\n",
    "\n",
    "            # مسار حفظ الصورة\n",
    "            img_path = os.path.join(folder_name, img_name)\n",
    "\n",
    "            # تحميل الصورة\n",
    "            try:\n",
    "                img_response = requests.get(full_img_url)\n",
    "                img_response.raise_for_status()\n",
    "                with open(img_path, \"wb\") as f:\n",
    "                    f.write(img_response.content)\n",
    "                print(f\"✔️ تم تحميل الصورة: {img_name}\")\n",
    "\n",
    "                # إضافة للـ Data\n",
    "                images.append({\n",
    "                    \"Bank_Name\": bank_name,\n",
    "                    \"Image_Name\": img_name,\n",
    "                    \"Image_Link\": full_img_url,\n",
    "                    \"Article_Link\": url  # كلهم بيرجعوا للصفحة الرئيسية بهالحالة\n",
    "                })\n",
    "            except Exception as e:\n",
    "                print(f\"❌ فشل تحميل الصورة: {full_img_url}, السبب: {e}\")\n",
    "\n",
    "else:\n",
    "    print(\"❌ لم يتم العثور على قسم البانر!\")\n"
   ]
  },
  {
   "cell_type": "code",
   "execution_count": 13,
   "id": "ac053757-2c20-400b-937f-202a24f93308",
   "metadata": {},
   "outputs": [
    {
     "data": {
      "text/html": [
       "<div>\n",
       "<style scoped>\n",
       "    .dataframe tbody tr th:only-of-type {\n",
       "        vertical-align: middle;\n",
       "    }\n",
       "\n",
       "    .dataframe tbody tr th {\n",
       "        vertical-align: top;\n",
       "    }\n",
       "\n",
       "    .dataframe thead th {\n",
       "        text-align: right;\n",
       "    }\n",
       "</style>\n",
       "<table border=\"1\" class=\"dataframe\">\n",
       "  <thead>\n",
       "    <tr style=\"text-align: right;\">\n",
       "      <th></th>\n",
       "    </tr>\n",
       "  </thead>\n",
       "  <tbody>\n",
       "  </tbody>\n",
       "</table>\n",
       "</div>"
      ],
      "text/plain": [
       "Empty DataFrame\n",
       "Columns: []\n",
       "Index: []"
      ]
     },
     "execution_count": 13,
     "metadata": {},
     "output_type": "execute_result"
    }
   ],
   "source": [
    "df = pd.DataFrame(images)\n",
    "df"
   ]
  },
  {
   "cell_type": "code",
   "execution_count": null,
   "id": "c3794056-7602-40c2-9ed9-c619c49afd00",
   "metadata": {},
   "outputs": [],
   "source": []
  }
 ],
 "metadata": {
  "kernelspec": {
   "display_name": "Python [conda env:base] *",
   "language": "python",
   "name": "conda-base-py"
  },
  "language_info": {
   "codemirror_mode": {
    "name": "ipython",
    "version": 3
   },
   "file_extension": ".py",
   "mimetype": "text/x-python",
   "name": "python",
   "nbconvert_exporter": "python",
   "pygments_lexer": "ipython3",
   "version": "3.12.7"
  }
 },
 "nbformat": 4,
 "nbformat_minor": 5
}
