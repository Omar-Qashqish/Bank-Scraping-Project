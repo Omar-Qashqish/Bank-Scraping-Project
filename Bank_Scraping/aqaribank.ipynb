{
 "cells": [
  {
   "cell_type": "code",
   "execution_count": 3,
   "id": "ab2a2ae6-8188-4792-977a-33ef872c9d4c",
   "metadata": {},
   "outputs": [],
   "source": [
    "import requests\n",
    "from bs4 import BeautifulSoup\n",
    "import pandas as pd\n",
    "import os\n",
    "from urllib.parse import urljoin\n"
   ]
  },
  {
   "cell_type": "code",
   "execution_count": 3,
   "id": "90d9fd10-3e0a-40c7-b8ce-780576e9b610",
   "metadata": {},
   "outputs": [],
   "source": [
    "url = \"https://www.aqaribank.jo/\"\n",
    "\n",
    "bank_name = \"Aqari Bank\"\n",
    "\n",
    "folder_name = \"AqariBank_Images\"\n",
    "os.makedirs(folder_name, exist_ok=True)\n",
    "\n",
    "headers = {\"User-Agent\": \"Mozilla/5.0\"}\n",
    "\n",
    "response = requests.get(url, headers=headers)\n",
    "\n",
    "soup = BeautifulSoup(response.text, \"html.parser\")\n"
   ]
  },
  {
   "cell_type": "code",
   "execution_count": 5,
   "id": "2da21266-0c69-451d-ad3c-b9378d410c1d",
   "metadata": {},
   "outputs": [],
   "source": [
    "slides = soup.find_all(\"img\", class_=\"slide-image\")\n"
   ]
  },
  {
   "cell_type": "code",
   "execution_count": 7,
   "id": "2477b169-2bb2-4f4e-9ba7-fd81907de9f0",
   "metadata": {},
   "outputs": [],
   "source": [
    "data = []\n"
   ]
  },
  {
   "cell_type": "code",
   "execution_count": 9,
   "id": "c98d3fc5-edba-4e13-acaa-14f609cdebd1",
   "metadata": {},
   "outputs": [],
   "source": [
    "for img_tag in slides:\n",
    "    img_src = img_tag.get(\"src\", \"\").strip()\n",
    "    img_alt = img_tag.get(\"alt\", \"\").strip()\n",
    "\n",
    "    # محاولة إيجاد رابط المقال إن وجد\n",
    "    parent_a = img_tag.find_parent(\"a\")\n",
    "    article_link = \"\"\n",
    "    if parent_a and parent_a.has_attr(\"href\"):\n",
    "        article_link = parent_a[\"href\"].strip()\n",
    "        if not article_link.startswith(\"http\"):\n",
    "            article_link = urljoin(url, article_link)\n",
    "\n",
    "    if img_src:\n",
    "        # معالجة رابط الصورة لو مش كامل\n",
    "        full_img_url = img_src\n",
    "        if not full_img_url.startswith(\"http\"):\n",
    "            full_img_url = urljoin(url, img_src)\n",
    "\n",
    "        # تجهيز اسم الصورة\n",
    "        img_name = img_alt.replace(\" \", \"_\").replace(\"/\", \"_\") or \"no_name\"\n",
    "        img_extension = full_img_url.split(\".\")[-1].split(\"?\")[0]\n",
    "        img_filename = f\"{img_name}.{img_extension}\"\n",
    "        img_path = os.path.join(folder_name, img_filename)\n",
    "\n",
    "        # تحميل الصورة\n",
    "        try:\n",
    "            img_response = requests.get(full_img_url)\n",
    "            img_response.raise_for_status()\n",
    "            with open(img_path, \"wb\") as f:\n",
    "                f.write(img_response.content)\n",
    "            print(f\"✔️ تم تحميل الصورة: {img_filename}\")\n",
    "        except Exception as e:\n",
    "            print(f\"❌ فشل تحميل الصورة: {full_img_url} - السبب: {e}\")\n",
    "\n",
    "        # إضافة البيانات للـ DataFrame\n",
    "        data.append({\n",
    "            \"Bank_Name\": bank_name,\n",
    "            \"Image_Name\": img_filename,\n",
    "            \"Image_Link\": full_img_url,\n",
    "            \"Article_Link\": article_link\n",
    "        })"
   ]
  },
  {
   "cell_type": "code",
   "execution_count": 11,
   "id": "7e90fb3a-a8dc-4cc1-b70b-df2bf8e62d42",
   "metadata": {},
   "outputs": [
    {
     "data": {
      "text/html": [
       "<div>\n",
       "<style scoped>\n",
       "    .dataframe tbody tr th:only-of-type {\n",
       "        vertical-align: middle;\n",
       "    }\n",
       "\n",
       "    .dataframe tbody tr th {\n",
       "        vertical-align: top;\n",
       "    }\n",
       "\n",
       "    .dataframe thead th {\n",
       "        text-align: right;\n",
       "    }\n",
       "</style>\n",
       "<table border=\"1\" class=\"dataframe\">\n",
       "  <thead>\n",
       "    <tr style=\"text-align: right;\">\n",
       "      <th></th>\n",
       "    </tr>\n",
       "  </thead>\n",
       "  <tbody>\n",
       "  </tbody>\n",
       "</table>\n",
       "</div>"
      ],
      "text/plain": [
       "Empty DataFrame\n",
       "Columns: []\n",
       "Index: []"
      ]
     },
     "execution_count": 11,
     "metadata": {},
     "output_type": "execute_result"
    }
   ],
   "source": [
    "df = pd.DataFrame(data)\n",
    "df"
   ]
  },
  {
   "cell_type": "code",
   "execution_count": null,
   "id": "9210212c-2384-4c65-a026-8288b476bcb3",
   "metadata": {},
   "outputs": [],
   "source": []
  }
 ],
 "metadata": {
  "kernelspec": {
   "display_name": "Python [conda env:base] *",
   "language": "python",
   "name": "conda-base-py"
  },
  "language_info": {
   "codemirror_mode": {
    "name": "ipython",
    "version": 3
   },
   "file_extension": ".py",
   "mimetype": "text/x-python",
   "name": "python",
   "nbconvert_exporter": "python",
   "pygments_lexer": "ipython3",
   "version": "3.12.7"
  }
 },
 "nbformat": 4,
 "nbformat_minor": 5
}
