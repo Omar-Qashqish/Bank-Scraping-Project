{
 "cells": [
  {
   "cell_type": "code",
   "execution_count": 3,
   "id": "f8df33a8-ad9f-428b-8b5e-0d2fb63b94d8",
   "metadata": {},
   "outputs": [],
   "source": [
    "import requests\n",
    "from bs4 import BeautifulSoup\n",
    "import pandas as pd\n",
    "import os\n",
    "from urllib.parse import urljoin\n"
   ]
  },
  {
   "cell_type": "code",
   "execution_count": 4,
   "id": "aa6804f6-8d0a-4c27-b4f0-18e932608ab7",
   "metadata": {},
   "outputs": [],
   "source": [
    "url = \"https://www.investbank.jo/\"\n",
    "\n",
    "headers = {\"User-Agent\": \"Mozilla/5.0\"}\n",
    "response = requests.get(url, headers=headers)\n",
    "soup = BeautifulSoup(response.content, \"html.parser\")\n",
    "\n",
    "\n",
    "bank_name = \"Invest Bank\""
   ]
  },
  {
   "cell_type": "code",
   "execution_count": 7,
   "id": "fc800033-e581-4954-aef8-fe91d47f7810",
   "metadata": {},
   "outputs": [],
   "source": [
    "folder_name = \"investbank_images\"\n",
    "os.makedirs(folder_name, exist_ok=True)\n"
   ]
  },
  {
   "cell_type": "code",
   "execution_count": 11,
   "id": "c734ca72-6e88-4ff2-9d5d-c58329094d8c",
   "metadata": {},
   "outputs": [],
   "source": [
    "ads = soup.find_all(\"div\", class_=\"dica-item image_top\")\n"
   ]
  },
  {
   "cell_type": "code",
   "execution_count": 13,
   "id": "824f01dd-f6f1-4377-911c-c4213e71a300",
   "metadata": {},
   "outputs": [],
   "source": [
    "data = []\n",
    "\n",
    "for ad in ads:\n",
    "    # رابط المقال\n",
    "    article_link = ad.get(\"data-link\", \"\").strip()\n",
    "\n",
    "    # محاولة استخراج الصورة من داخل الإعلان\n",
    "    img_tag = ad.find(\"img\")\n",
    "    img_url = urljoin(url, img_tag[\"src\"]) if img_tag and img_tag.get(\"src\") else None\n",
    "    img_name = os.path.basename(img_url.split(\"?\")[0]) if img_url else \"No_Image\"\n",
    "\n",
    "    # تحميل الصورة\n",
    "    if img_url and img_name != \"No_Image\":\n",
    "        try:\n",
    "            img_data = requests.get(img_url).content\n",
    "            img_path = os.path.join(folder_name, img_name)\n",
    "            with open(img_path, \"wb\") as f:\n",
    "                f.write(img_data)\n",
    "            print(f\"✔️ صورة تم تحميلها: {img_name}\")\n",
    "        except Exception as e:\n",
    "            print(f\"❌ فشل تحميل: {img_url} - {e}\")\n",
    "            img_url = \"No Image\"\n",
    "\n",
    "    data.append({\n",
    "        \"Bank_Name\": bank_name,\n",
    "        \"Image_Name\": img_name,\n",
    "        \"Image_Link\": img_url or \"No Image\",\n",
    "        \"Article_Link\": article_link or \"No Link\"\n",
    "    })"
   ]
  },
  {
   "cell_type": "code",
   "execution_count": 15,
   "id": "b2280540-e06f-4942-a360-575cc3e20a86",
   "metadata": {},
   "outputs": [
    {
     "data": {
      "text/html": [
       "<div>\n",
       "<style scoped>\n",
       "    .dataframe tbody tr th:only-of-type {\n",
       "        vertical-align: middle;\n",
       "    }\n",
       "\n",
       "    .dataframe tbody tr th {\n",
       "        vertical-align: top;\n",
       "    }\n",
       "\n",
       "    .dataframe thead th {\n",
       "        text-align: right;\n",
       "    }\n",
       "</style>\n",
       "<table border=\"1\" class=\"dataframe\">\n",
       "  <thead>\n",
       "    <tr style=\"text-align: right;\">\n",
       "      <th></th>\n",
       "      <th>Bank_Name</th>\n",
       "      <th>Image_Name</th>\n",
       "      <th>Image_Link</th>\n",
       "      <th>Article_Link</th>\n",
       "    </tr>\n",
       "  </thead>\n",
       "  <tbody>\n",
       "    <tr>\n",
       "      <th>0</th>\n",
       "      <td>Invest Bank</td>\n",
       "      <td>No_Image</td>\n",
       "      <td>No Image</td>\n",
       "      <td>https://www.investbank.jo/ar/digital-onboarding/</td>\n",
       "    </tr>\n",
       "    <tr>\n",
       "      <th>1</th>\n",
       "      <td>Invest Bank</td>\n",
       "      <td>No_Image</td>\n",
       "      <td>No Image</td>\n",
       "      <td>https://www.investbank.jo/ar/digital-onboarding/</td>\n",
       "    </tr>\n",
       "    <tr>\n",
       "      <th>2</th>\n",
       "      <td>Invest Bank</td>\n",
       "      <td>No_Image</td>\n",
       "      <td>No Image</td>\n",
       "      <td>https://www.investbank.jo/en/content/travel-wo...</td>\n",
       "    </tr>\n",
       "    <tr>\n",
       "      <th>3</th>\n",
       "      <td>Invest Bank</td>\n",
       "      <td>No_Image</td>\n",
       "      <td>No Image</td>\n",
       "      <td>https://www.investbank.jo/google-pay/</td>\n",
       "    </tr>\n",
       "    <tr>\n",
       "      <th>4</th>\n",
       "      <td>Invest Bank</td>\n",
       "      <td>No_Image</td>\n",
       "      <td>No Image</td>\n",
       "      <td>No Link</td>\n",
       "    </tr>\n",
       "    <tr>\n",
       "      <th>5</th>\n",
       "      <td>Invest Bank</td>\n",
       "      <td>No_Image</td>\n",
       "      <td>No Image</td>\n",
       "      <td>No Link</td>\n",
       "    </tr>\n",
       "    <tr>\n",
       "      <th>6</th>\n",
       "      <td>Invest Bank</td>\n",
       "      <td>No_Image</td>\n",
       "      <td>No Image</td>\n",
       "      <td>No Link</td>\n",
       "    </tr>\n",
       "  </tbody>\n",
       "</table>\n",
       "</div>"
      ],
      "text/plain": [
       "     Bank_Name Image_Name Image_Link  \\\n",
       "0  Invest Bank   No_Image   No Image   \n",
       "1  Invest Bank   No_Image   No Image   \n",
       "2  Invest Bank   No_Image   No Image   \n",
       "3  Invest Bank   No_Image   No Image   \n",
       "4  Invest Bank   No_Image   No Image   \n",
       "5  Invest Bank   No_Image   No Image   \n",
       "6  Invest Bank   No_Image   No Image   \n",
       "\n",
       "                                        Article_Link  \n",
       "0   https://www.investbank.jo/ar/digital-onboarding/  \n",
       "1   https://www.investbank.jo/ar/digital-onboarding/  \n",
       "2  https://www.investbank.jo/en/content/travel-wo...  \n",
       "3              https://www.investbank.jo/google-pay/  \n",
       "4                                            No Link  \n",
       "5                                            No Link  \n",
       "6                                            No Link  "
      ]
     },
     "execution_count": 15,
     "metadata": {},
     "output_type": "execute_result"
    }
   ],
   "source": [
    "df = pd.DataFrame(data)\n",
    "df"
   ]
  },
  {
   "cell_type": "code",
   "execution_count": null,
   "id": "8845008f-afa5-4c11-9cbe-edc5ff8f5484",
   "metadata": {},
   "outputs": [],
   "source": []
  }
 ],
 "metadata": {
  "kernelspec": {
   "display_name": "Python [conda env:base] *",
   "language": "python",
   "name": "conda-base-py"
  },
  "language_info": {
   "codemirror_mode": {
    "name": "ipython",
    "version": 3
   },
   "file_extension": ".py",
   "mimetype": "text/x-python",
   "name": "python",
   "nbconvert_exporter": "python",
   "pygments_lexer": "ipython3",
   "version": "3.12.7"
  }
 },
 "nbformat": 4,
 "nbformat_minor": 5
}
