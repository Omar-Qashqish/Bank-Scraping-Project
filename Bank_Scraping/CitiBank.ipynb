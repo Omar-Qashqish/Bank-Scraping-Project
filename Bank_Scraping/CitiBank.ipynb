{
 "cells": [
  {
   "cell_type": "code",
   "execution_count": 1,
   "id": "f9a697b4-d3b1-47ef-8093-b507791c204a",
   "metadata": {},
   "outputs": [],
   "source": [
    "import requests\n",
    "import os\n",
    "import pandas as pd\n",
    "from bs4 import BeautifulSoup\n"
   ]
  },
  {
   "cell_type": "code",
   "execution_count": 3,
   "id": "b314294f-37ce-480d-96ea-6540fb788c27",
   "metadata": {},
   "outputs": [],
   "source": [
    "url = \"https://www.citi.com/\"\n",
    "\n",
    "headers = {\n",
    "    \"User-Agent\": \"Mozilla/5.0 (Windows NT 10.0; Win64; x64) AppleWebKit/537.36 (KHTML, like Gecko) Chrome/112.0.0.0 Safari/537.36\"\n",
    "}\n",
    "\n",
    "response = requests.get(url, headers=headers)\n",
    "soup = BeautifulSoup(response.content, \"html.parser\")\n"
   ]
  },
  {
   "cell_type": "code",
   "execution_count": 5,
   "id": "0d5fa94c-35f8-4cb1-ad86-15d3e29fc055",
   "metadata": {},
   "outputs": [],
   "source": [
    "folder_name = \"citi_images\"\n",
    "os.makedirs(folder_name, exist_ok=True)"
   ]
  },
  {
   "cell_type": "code",
   "execution_count": 7,
   "id": "9cd2ff4e-48ef-4742-8f45-f8243214ff13",
   "metadata": {},
   "outputs": [],
   "source": [
    "data = []\n",
    "bank_name = \"Citi Bank\""
   ]
  },
  {
   "cell_type": "code",
   "execution_count": 9,
   "id": "96a5b310-f075-4741-b75a-6e0a34db21d4",
   "metadata": {},
   "outputs": [],
   "source": [
    "for a_tag in soup.find_all(\"a\", href=True):\n",
    "    img_tag = a_tag.find(\"img\")\n",
    "    if img_tag and img_tag.get(\"src\"):\n",
    "        article_link = a_tag[\"href\"]\n",
    "        image_link = img_tag[\"src\"]\n",
    "        image_name = image_link.split(\"/\")[-1].split(\"?\")[0]\n",
    "\n",
    "        # معالجة روابط ناقصة\n",
    "        if not image_link.startswith(\"http\"):\n",
    "            image_link = \"https://www.citi.com\" + image_link\n",
    "        if not article_link.startswith(\"http\"):\n",
    "            article_link = \"https://www.citi.com\" + article_link\n",
    "\n",
    "        # تحميل الصورة\n",
    "        try:\n",
    "            img_response = requests.get(image_link)\n",
    "            img_response.raise_for_status()\n",
    "            img_path = os.path.join(folder_name, image_name)\n",
    "            with open(img_path, \"wb\") as f:\n",
    "                f.write(img_response.content)\n",
    "            print(f\"✔️ تم تحميل الصورة: {image_name}\")\n",
    "        except Exception as e:\n",
    "            print(f\"❌ فشل تحميل الصورة: {image_link}, السبب: {e}\")\n",
    "\n",
    "        # إضافة المعلومات للـ Data\n",
    "        data.append({\n",
    "            \"Bank_Name\": bank_name,\n",
    "            \"Image_Name\": image_name,\n",
    "            \"Image_Link\": image_link,\n",
    "            \"Article_Link\": article_link\n",
    "        })\n"
   ]
  },
  {
   "cell_type": "code",
   "execution_count": 11,
   "id": "4d6260b2-bcff-4df6-9a18-cc376e19ce35",
   "metadata": {},
   "outputs": [
    {
     "data": {
      "text/html": [
       "<div>\n",
       "<style scoped>\n",
       "    .dataframe tbody tr th:only-of-type {\n",
       "        vertical-align: middle;\n",
       "    }\n",
       "\n",
       "    .dataframe tbody tr th {\n",
       "        vertical-align: top;\n",
       "    }\n",
       "\n",
       "    .dataframe thead th {\n",
       "        text-align: right;\n",
       "    }\n",
       "</style>\n",
       "<table border=\"1\" class=\"dataframe\">\n",
       "  <thead>\n",
       "    <tr style=\"text-align: right;\">\n",
       "      <th></th>\n",
       "    </tr>\n",
       "  </thead>\n",
       "  <tbody>\n",
       "  </tbody>\n",
       "</table>\n",
       "</div>"
      ],
      "text/plain": [
       "Empty DataFrame\n",
       "Columns: []\n",
       "Index: []"
      ]
     },
     "execution_count": 11,
     "metadata": {},
     "output_type": "execute_result"
    }
   ],
   "source": [
    "df = pd.DataFrame(data)\n",
    "df"
   ]
  },
  {
   "cell_type": "code",
   "execution_count": null,
   "id": "1033eff7-15db-4853-8173-a0e8cae59466",
   "metadata": {},
   "outputs": [],
   "source": []
  }
 ],
 "metadata": {
  "kernelspec": {
   "display_name": "Python [conda env:base] *",
   "language": "python",
   "name": "conda-base-py"
  },
  "language_info": {
   "codemirror_mode": {
    "name": "ipython",
    "version": 3
   },
   "file_extension": ".py",
   "mimetype": "text/x-python",
   "name": "python",
   "nbconvert_exporter": "python",
   "pygments_lexer": "ipython3",
   "version": "3.12.7"
  }
 },
 "nbformat": 4,
 "nbformat_minor": 5
}
