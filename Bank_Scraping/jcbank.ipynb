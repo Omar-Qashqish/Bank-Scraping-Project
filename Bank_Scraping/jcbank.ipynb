{
 "cells": [
  {
   "cell_type": "code",
   "execution_count": 1,
   "id": "478b7e81-d1c8-481e-bad1-380658a93187",
   "metadata": {},
   "outputs": [],
   "source": [
    "import requests\n",
    "from bs4 import BeautifulSoup\n",
    "import pandas as pd\n",
    "import os\n",
    "from urllib.parse import urljoin\n",
    "import re"
   ]
  },
  {
   "cell_type": "code",
   "execution_count": 2,
   "id": "42d987e3-1acb-48fe-a326-f56bcdea884e",
   "metadata": {},
   "outputs": [],
   "source": [
    "bank_name = \"Jordan Commercial Bank\"\n",
    "base_url = \"https://www.jcbank.com.jo\"\n",
    "url = f\"{base_url}/ar\"\n",
    "headers = {\"User-Agent\": \"Mozilla/5.0\"}"
   ]
  },
  {
   "cell_type": "code",
   "execution_count": 3,
   "id": "12606c0a-76aa-4e95-9aee-e9b59cf2a0a9",
   "metadata": {},
   "outputs": [],
   "source": [
    "folder_name = \"Jordan_Commercial_Bank_Images\"\n",
    "os.makedirs(folder_name, exist_ok=True)\n",
    "\n",
    "response = requests.get(url, headers=headers)\n",
    "response.raise_for_status()\n",
    "\n",
    "soup = BeautifulSoup(response.text, \"html.parser\")\n"
   ]
  },
  {
   "cell_type": "code",
   "execution_count": 4,
   "id": "d0cb2717-bfb4-4dc1-8fce-dfdf69ba135e",
   "metadata": {},
   "outputs": [
    {
     "name": "stdout",
     "output_type": "stream",
     "text": [
      "✔️ تم تحميل الصورة: jcb250415budgetad.jpg\n"
     ]
    }
   ],
   "source": [
    "slides = soup.select(\".jcb-state-slider .jcb-state-item\")\n",
    "\n",
    "data = []\n",
    "\n",
    "for slide in slides:\n",
    "    style = slide.get(\"style\", \"\")\n",
    "    match = re.search(r\"url\\(['\\\"]?(.*?)['\\\"]?\\)\", style)\n",
    "    if not match:\n",
    "        continue\n",
    "\n",
    "    img_src = match.group(1)\n",
    "    full_img_url = urljoin(base_url, img_src)\n",
    "    img_name = img_src.split(\"/\")[-1]\n",
    "    img_path = os.path.join(folder_name, img_name)\n",
    "\n",
    "    # محاولة تحميل الصورة\n",
    "    try:\n",
    "        img_response = requests.get(full_img_url, stream=True)\n",
    "        img_response.raise_for_status()\n",
    "        with open(img_path, \"wb\") as f:\n",
    "            f.write(img_response.content)\n",
    "        print(f\"✔️ تم تحميل الصورة: {img_name}\")\n",
    "    except Exception as e:\n",
    "        print(f\"❌ فشل تحميل الصورة: {img_name} - {e}\")\n",
    "\n",
    "    # رابط المقال (أو الرابط العام)\n",
    "    parent_a = slide.find_parent(\"a\")\n",
    "    if parent_a and parent_a.has_attr(\"href\") and parent_a[\"href\"].strip():\n",
    "        article_url = urljoin(base_url, parent_a[\"href\"])\n",
    "    else:\n",
    "        article_url = url\n",
    "\n",
    "    data.append({\n",
    "        \"Bank_Name\": bank_name,\n",
    "        \"Image_Name\": img_name,\n",
    "        \"Image_Link\": full_img_url,\n",
    "        \"Article_Link\": article_url\n",
    "    })\n"
   ]
  },
  {
   "cell_type": "code",
   "execution_count": 7,
   "id": "7576c591-00ab-4943-a0c1-3900b1496985",
   "metadata": {},
   "outputs": [
    {
     "data": {
      "text/html": [
       "<div>\n",
       "<style scoped>\n",
       "    .dataframe tbody tr th:only-of-type {\n",
       "        vertical-align: middle;\n",
       "    }\n",
       "\n",
       "    .dataframe tbody tr th {\n",
       "        vertical-align: top;\n",
       "    }\n",
       "\n",
       "    .dataframe thead th {\n",
       "        text-align: right;\n",
       "    }\n",
       "</style>\n",
       "<table border=\"1\" class=\"dataframe\">\n",
       "  <thead>\n",
       "    <tr style=\"text-align: right;\">\n",
       "      <th></th>\n",
       "      <th>Bank_Name</th>\n",
       "      <th>Image_Name</th>\n",
       "      <th>Image_Link</th>\n",
       "      <th>Article_Link</th>\n",
       "    </tr>\n",
       "  </thead>\n",
       "  <tbody>\n",
       "    <tr>\n",
       "      <th>0</th>\n",
       "      <td>Jordan Commercial Bank</td>\n",
       "      <td>jcb250415budgetad.jpg</td>\n",
       "      <td>https://www.jcbank.com.jo/uploads/2025/04/jcb2...</td>\n",
       "      <td>https://www.jcbank.com.jo/ar</td>\n",
       "    </tr>\n",
       "  </tbody>\n",
       "</table>\n",
       "</div>"
      ],
      "text/plain": [
       "                Bank_Name             Image_Name  \\\n",
       "0  Jordan Commercial Bank  jcb250415budgetad.jpg   \n",
       "\n",
       "                                          Image_Link  \\\n",
       "0  https://www.jcbank.com.jo/uploads/2025/04/jcb2...   \n",
       "\n",
       "                   Article_Link  \n",
       "0  https://www.jcbank.com.jo/ar  "
      ]
     },
     "execution_count": 7,
     "metadata": {},
     "output_type": "execute_result"
    }
   ],
   "source": [
    "df = pd.DataFrame(data)\n",
    "df"
   ]
  },
  {
   "cell_type": "code",
   "execution_count": null,
   "id": "1feaaa13-36c3-465c-aff8-c60b0bffd9f0",
   "metadata": {},
   "outputs": [],
   "source": []
  },
  {
   "cell_type": "code",
   "execution_count": null,
   "id": "f4a6173d-8a1c-42f1-b687-8d2f8cb5478d",
   "metadata": {},
   "outputs": [],
   "source": []
  }
 ],
 "metadata": {
  "kernelspec": {
   "display_name": "Python [conda env:base] *",
   "language": "python",
   "name": "conda-base-py"
  },
  "language_info": {
   "codemirror_mode": {
    "name": "ipython",
    "version": 3
   },
   "file_extension": ".py",
   "mimetype": "text/x-python",
   "name": "python",
   "nbconvert_exporter": "python",
   "pygments_lexer": "ipython3",
   "version": "3.12.7"
  }
 },
 "nbformat": 4,
 "nbformat_minor": 5
}
